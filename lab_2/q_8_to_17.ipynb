{
 "cells": [
  {
   "cell_type": "code",
   "execution_count": 4,
   "id": "7c3278a7-f7f4-4e79-a1fe-68d23289a4d0",
   "metadata": {},
   "outputs": [
    {
     "name": "stdout",
     "output_type": "stream",
     "text": [
      "\n",
      "lawraga hsay : eman\n",
      "\n",
      "93040112 : llorne\n"
     ]
    }
   ],
   "source": [
    "def print_lines_in_reverse(file_path):\n",
    "    file = open(file_path, 'r')\n",
    "    lines = file.readlines()\n",
    "    file.close()\n",
    "    \n",
    "    if lines:\n",
    "        for line in lines:\n",
    "            line=line[::-1]\n",
    "            print(line)\n",
    "    else:\n",
    "        print(\"File is empty or not found.\")\n",
    "\n",
    "file_path = 'q8.txt'\n",
    "print_lines_in_reverse(file_path)\n"
   ]
  },
  {
   "cell_type": "code",
   "execution_count": 5,
   "id": "bac93c2e-5a60-4e94-8b61-c4451958b58e",
   "metadata": {},
   "outputs": [
    {
     "name": "stdout",
     "output_type": "stream",
     "text": [
      "[0.5, 1.0, 1.5, 2.0, 2.5]\n"
     ]
    }
   ],
   "source": [
    "def square(x):\n",
    "    return x/2\n",
    "\n",
    "def my_map(func, iterable):\n",
    "    return [func(item) for item in iterable]\n",
    "\n",
    "numbers = [1, 2, 3, 4, 5]\n",
    "squared_numbers = my_map(square, numbers)\n",
    "print(squared_numbers)\n"
   ]
  },
  {
   "cell_type": "code",
   "execution_count": 6,
   "id": "b0a20186-6e1d-40b2-b94c-5b1ec176c335",
   "metadata": {},
   "outputs": [
    {
     "name": "stdout",
     "output_type": "stream",
     "text": [
      "[2, 4, 6, 8, 10]\n"
     ]
    }
   ],
   "source": [
    "def is_even(x):\n",
    "    return x % 2 == 0\n",
    "\n",
    "def my_filter(func, iterable):\n",
    "    return [item for item in iterable if func(item)]\n",
    "\n",
    "numbers = [1, 2, 3, 4, 5, 6, 7, 8, 9, 10]\n",
    "even_numbers = my_filter(is_even, numbers)\n",
    "print(even_numbers)\n"
   ]
  },
  {
   "cell_type": "code",
   "execution_count": 9,
   "id": "064ff8c8-2bf6-45c9-9c05-19103ee0e88a",
   "metadata": {},
   "outputs": [
    {
     "name": "stdout",
     "output_type": "stream",
     "text": [
      "['yash', 'agarwal', '21104039']\n",
      "['open', 'source', 'lab ', 'python']\n"
     ]
    }
   ],
   "source": [
    "def parse_csv(file_path):\n",
    "    file = open(file_path, 'r')\n",
    "    lines = file.readlines()\n",
    "    file.close()\n",
    "    \n",
    "    csv_data = []\n",
    "    if lines:\n",
    "        for line in lines:\n",
    "            row = line.strip().split(',')\n",
    "            csv_data.append(row)\n",
    "    else:\n",
    "        print(\"File is empty or not found.\")\n",
    "    \n",
    "    return csv_data\n",
    "\n",
    "file_path = 'q13.txt' \n",
    "parsed_data = parse_csv(file_path)\n",
    "for row in parsed_data:\n",
    "    print(row)"
   ]
  },
  {
   "cell_type": "code",
   "execution_count": 13,
   "id": "8d129986-7f53-4cbc-86d0-890706cda52d",
   "metadata": {},
   "outputs": [
    {
     "name": "stdout",
     "output_type": "stream",
     "text": [
      "['ayash', 'ash', 'aash', 'aysh', 'byash', 'ash', 'bash', 'aysh', 'cyash', 'ash', 'cash', 'aysh', 'dyash', 'ash', 'dash', 'aysh', 'eyash', 'ash', 'eash', 'aysh', 'fyash', 'ash', 'fash', 'aysh', 'gyash', 'ash', 'gash', 'aysh', 'hyash', 'ash', 'hash', 'aysh', 'iyash', 'ash', 'iash', 'aysh', 'jyash', 'ash', 'jash', 'aysh', 'kyash', 'ash', 'kash', 'aysh', 'lyash', 'ash', 'lash', 'aysh', 'myash', 'ash', 'mash', 'aysh', 'nyash', 'ash', 'nash', 'aysh', 'oyash', 'ash', 'oash', 'aysh', 'pyash', 'ash', 'pash', 'aysh', 'qyash', 'ash', 'qash', 'aysh', 'ryash', 'ash', 'rash', 'aysh', 'syash', 'ash', 'sash', 'aysh', 'tyash', 'ash', 'tash', 'aysh', 'uyash', 'ash', 'uash', 'aysh', 'vyash', 'ash', 'vash', 'aysh', 'wyash', 'ash', 'wash', 'aysh', 'xyash', 'ash', 'xash', 'aysh', 'yyash', 'ash', 'yash', 'aysh', 'zyash', 'ash', 'zash', 'aysh', 'yaash', 'ysh', 'yash', 'ysah', 'ybash', 'ysh', 'ybsh', 'ysah', 'ycash', 'ysh', 'ycsh', 'ysah', 'ydash', 'ysh', 'ydsh', 'ysah', 'yeash', 'ysh', 'yesh', 'ysah', 'yfash', 'ysh', 'yfsh', 'ysah', 'ygash', 'ysh', 'ygsh', 'ysah', 'yhash', 'ysh', 'yhsh', 'ysah', 'yiash', 'ysh', 'yish', 'ysah', 'yjash', 'ysh', 'yjsh', 'ysah', 'ykash', 'ysh', 'yksh', 'ysah', 'ylash', 'ysh', 'ylsh', 'ysah', 'ymash', 'ysh', 'ymsh', 'ysah', 'ynash', 'ysh', 'ynsh', 'ysah', 'yoash', 'ysh', 'yosh', 'ysah', 'ypash', 'ysh', 'ypsh', 'ysah', 'yqash', 'ysh', 'yqsh', 'ysah', 'yrash', 'ysh', 'yrsh', 'ysah', 'ysash', 'ysh', 'yssh', 'ysah', 'ytash', 'ysh', 'ytsh', 'ysah', 'yuash', 'ysh', 'yush', 'ysah', 'yvash', 'ysh', 'yvsh', 'ysah', 'ywash', 'ysh', 'ywsh', 'ysah', 'yxash', 'ysh', 'yxsh', 'ysah', 'yyash', 'ysh', 'yysh', 'ysah', 'yzash', 'ysh', 'yzsh', 'ysah', 'yaash', 'yah', 'yaah', 'yahs', 'yabsh', 'yah', 'yabh', 'yahs', 'yacsh', 'yah', 'yach', 'yahs', 'yadsh', 'yah', 'yadh', 'yahs', 'yaesh', 'yah', 'yaeh', 'yahs', 'yafsh', 'yah', 'yafh', 'yahs', 'yagsh', 'yah', 'yagh', 'yahs', 'yahsh', 'yah', 'yahh', 'yahs', 'yaish', 'yah', 'yaih', 'yahs', 'yajsh', 'yah', 'yajh', 'yahs', 'yaksh', 'yah', 'yakh', 'yahs', 'yalsh', 'yah', 'yalh', 'yahs', 'yamsh', 'yah', 'yamh', 'yahs', 'yansh', 'yah', 'yanh', 'yahs', 'yaosh', 'yah', 'yaoh', 'yahs', 'yapsh', 'yah', 'yaph', 'yahs', 'yaqsh', 'yah', 'yaqh', 'yahs', 'yarsh', 'yah', 'yarh', 'yahs', 'yassh', 'yah', 'yash', 'yahs', 'yatsh', 'yah', 'yath', 'yahs', 'yaush', 'yah', 'yauh', 'yahs', 'yavsh', 'yah', 'yavh', 'yahs', 'yawsh', 'yah', 'yawh', 'yahs', 'yaxsh', 'yah', 'yaxh', 'yahs', 'yaysh', 'yah', 'yayh', 'yahs', 'yazsh', 'yah', 'yazh', 'yahs', 'yasah', 'yas', 'yasa', 'yash', 'yasbh', 'yas', 'yasb', 'yash', 'yasch', 'yas', 'yasc', 'yash', 'yasdh', 'yas', 'yasd', 'yash', 'yaseh', 'yas', 'yase', 'yash', 'yasfh', 'yas', 'yasf', 'yash', 'yasgh', 'yas', 'yasg', 'yash', 'yashh', 'yas', 'yash', 'yash', 'yasih', 'yas', 'yasi', 'yash', 'yasjh', 'yas', 'yasj', 'yash', 'yaskh', 'yas', 'yask', 'yash', 'yaslh', 'yas', 'yasl', 'yash', 'yasmh', 'yas', 'yasm', 'yash', 'yasnh', 'yas', 'yasn', 'yash', 'yasoh', 'yas', 'yaso', 'yash', 'yasph', 'yas', 'yasp', 'yash', 'yasqh', 'yas', 'yasq', 'yash', 'yasrh', 'yas', 'yasr', 'yash', 'yassh', 'yas', 'yass', 'yash', 'yasth', 'yas', 'yast', 'yash', 'yasuh', 'yas', 'yasu', 'yash', 'yasvh', 'yas', 'yasv', 'yash', 'yaswh', 'yas', 'yasw', 'yash', 'yasxh', 'yas', 'yasx', 'yash', 'yasyh', 'yas', 'yasy', 'yash', 'yaszh', 'yas', 'yasz', 'yash']\n"
     ]
    }
   ],
   "source": [
    "def insert_char(word, index, char):\n",
    "    return word[:index] + char + word[index:]\n",
    "\n",
    "def delete_char(word, index):\n",
    "    return word[:index] + word[index+1:]\n",
    "\n",
    "def replace_char(word, index, char):\n",
    "    return word[:index] + char + word[index+1:]\n",
    "\n",
    "def swap_chars(word, index):\n",
    "    if index < len(word) - 1:\n",
    "        return word[:index] + word[index+1] + word[index] + word[index+2:]\n",
    "    else:\n",
    "        return word\n",
    "\n",
    "def mutate(word):\n",
    "    mutated_words = []\n",
    "\n",
    "    for i in range(len(word)):\n",
    "        for char in 'abcdefghijklmnopqrstuvwxyz':\n",
    "            mutated_words.append(insert_char(word, i, char))\n",
    "            mutated_words.append(delete_char(word, i))\n",
    "            mutated_words.append(replace_char(word, i, char))\n",
    "            mutated_words.append(swap_chars(word, i))\n",
    "    \n",
    "    return mutated_words\n",
    "input_word = 'yash'\n",
    "mutated_words = mutate(input_word)\n",
    "print(mutated_words)\n"
   ]
  },
  {
   "cell_type": "code",
   "execution_count": 16,
   "id": "0bf61dd5-73fd-40ea-8335-019217104b20",
   "metadata": {},
   "outputs": [
    {
     "name": "stdout",
     "output_type": "stream",
     "text": [
      "Present\n"
     ]
    }
   ],
   "source": [
    "def insert_char(word, index, char):\n",
    "    return word[:index] + char + word[index:]\n",
    "\n",
    "def delete_char(word, index):\n",
    "    return word[:index] + word[index+1:]\n",
    "\n",
    "def replace_char(word, index, char):\n",
    "    return word[:index] + char + word[index+1:]\n",
    "\n",
    "def swap_chars(word, index):\n",
    "    if index < len(word) - 1:\n",
    "        return word[:index] + word[index+1] + word[index] + word[index+2:]\n",
    "    else:\n",
    "        return word\n",
    "\n",
    "def mutate(word):\n",
    "    mutated_words = []\n",
    "\n",
    "    for i in range(len(word)):\n",
    "        for char in 'abcdefghijklmnopqrstuvwxyz':\n",
    "            mutated_words.append(insert_char(word, i, char))\n",
    "            mutated_words.append(delete_char(word, i))\n",
    "            mutated_words.append(replace_char(word, i, char))\n",
    "            mutated_words.append(swap_chars(word, i))\n",
    "    \n",
    "    return mutated_words\n",
    "a = 'yash'\n",
    "mutated_words = mutate(a)\n",
    "b = 'ysh'\n",
    "if b in mutated_words:\n",
    "    print(\"Present\")\n",
    "else:\n",
    "    print(\"Not present\")\n"
   ]
  },
  {
   "cell_type": "code",
   "execution_count": 20,
   "id": "c32a67b1-bbda-40da-93bf-c7d22fa0478a",
   "metadata": {},
   "outputs": [
    {
     "name": "stdout",
     "output_type": "stream",
     "text": [
      "10\n",
      "may be p type\n",
      "0\n",
      "text file\n"
     ]
    }
   ],
   "source": [
    "def count_character_frequency(file_path,ch):\n",
    "    count=0\n",
    "    with open(file_path, 'r') as file:\n",
    "        content = file.read()\n",
    "        for char in content:\n",
    "            if char ==ch:\n",
    "                count+=1\n",
    "    \n",
    "    return count\n",
    "\n",
    "def analyze_file_type(file_path):\n",
    "    c_type = count_character_frequency(file_path,';')\n",
    "    p_type = count_character_frequency(file_path,':')\n",
    "    if(c_type>0 & p_type==0):\n",
    "        print(\"may be c type\")\n",
    "    elif(c_type<p_type):\n",
    "        print(\"may be p type\")\n",
    "    else:\n",
    "        print(\"text file\")\n",
    "    \n",
    "file_path = 'q9.py'\n",
    "frequency = count_character_frequency(file_path,':')\n",
    "print(frequency)\n",
    "analyze_file_type(file_path)\n",
    "file_path = 'q13.txt'\n",
    "frequency = count_character_frequency(file_path,':')\n",
    "print(frequency)\n",
    "analyze_file_type(file_path)"
   ]
  },
  {
   "cell_type": "code",
   "execution_count": 22,
   "id": "03babebf-e3f7-48c8-aca2-fda4f4e3eeb8",
   "metadata": {},
   "outputs": [
    {
     "name": "stdout",
     "output_type": "stream",
     "text": [
      "eat ate\n",
      "eat tea\n",
      "ate tea\n",
      "dog god\n",
      "bat tab\n"
     ]
    }
   ],
   "source": [
    "def are_anagrams(word1, word2):\n",
    "    return sorted(word1) == sorted(word2)\n",
    "\n",
    "def find_anagrams(word_list):\n",
    "    n = len(word_list)\n",
    "    for i in range(0,n):\n",
    "        for j in range(i+1,n):\n",
    "            w1=word_list[i]\n",
    "            w2=word_list[j]\n",
    "            if are_anagrams(w1,w2):\n",
    "                print(w1+\" \"+w2)\n",
    "            \n",
    "\n",
    "# assuming unique words\n",
    "words = ['eat', 'ate', 'tea', 'dog', 'god', 'bat', 'tab']\n",
    "find_anagrams(words)\n"
   ]
  },
  {
   "cell_type": "code",
   "execution_count": 29,
   "id": "f22145b9-0f32-4be3-adb5-983f7a29af58",
   "metadata": {},
   "outputs": [
    {
     "name": "stdout",
     "output_type": "stream",
     "text": [
      "[(2, 2, 4), (1, 2, 3), (1, 3, 4), (1, 1, 2)]\n"
     ]
    }
   ],
   "source": [
    "def triplets(n):\n",
    "    result = []\n",
    "    for c in range(1, n):\n",
    "        for a in range(1, c):\n",
    "            b = c - a\n",
    "            triplet = tuple(sorted((a, b, c)))\n",
    "            result.append(triplet)\n",
    "    return list(set(result))  # Remove duplicates\n",
    "\n",
    "# assuming triplet is of natural numbers\n",
    "n = 5\n",
    "triplet_list = triplets(n)\n",
    "print(triplet_list)"
   ]
  },
  {
   "cell_type": "code",
   "execution_count": null,
   "id": "f4ba3598-4a40-4390-8ef5-b8a07ba92661",
   "metadata": {},
   "outputs": [],
   "source": []
  }
 ],
 "metadata": {
  "kernelspec": {
   "display_name": "Python 3 (ipykernel)",
   "language": "python",
   "name": "python3"
  },
  "language_info": {
   "codemirror_mode": {
    "name": "ipython",
    "version": 3
   },
   "file_extension": ".py",
   "mimetype": "text/x-python",
   "name": "python",
   "nbconvert_exporter": "python",
   "pygments_lexer": "ipython3",
   "version": "3.9.7"
  }
 },
 "nbformat": 4,
 "nbformat_minor": 5
}
