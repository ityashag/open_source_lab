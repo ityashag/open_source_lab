{
 "cells": [
  {
   "cell_type": "code",
   "execution_count": 2,
   "metadata": {},
   "outputs": [
    {
     "name": "stdout",
     "output_type": "stream",
     "text": [
      "{'yash': 'name', '21104039': 'enroll'}\n"
     ]
    }
   ],
   "source": [
    "def invertdict(dic):\n",
    "    new_dic={}\n",
    "    for key in dic:\n",
    "        new_dic[dic[key]]=key\n",
    "    return new_dic\n",
    "dic = {\"name\":\"yash\",\"enroll\":\"21104039\"}\n",
    "dic=invertdict(dic)\n",
    "print(dic)"
   ]
  },
  {
   "cell_type": "code",
   "execution_count": 8,
   "metadata": {},
   "outputs": [
    {
     "name": "stdout",
     "output_type": "stream",
     "text": [
      "enroll : 21104039\n",
      "name : yash\n"
     ]
    }
   ],
   "source": [
    "dic = {\"name\":\"yash\",\"enroll\":\"21104039\"}\n",
    "ls = sorted(dic)\n",
    "for key in ls:\n",
    "    print(key+\" : \"+dic[key])"
   ]
  },
  {
   "cell_type": "code",
   "execution_count": 19,
   "metadata": {},
   "outputs": [
    {
     "name": "stdout",
     "output_type": "stream",
     "text": [
      "72\n",
      "['abcdef', 'abcghi', 'abcjkl', 'abcmno', 'abcpqrs', 'abctuv', 'abcwxy', 'abcz', 'defabc', 'defghi', 'defjkl', 'defmno', 'defpqrs', 'deftuv', 'defwxy', 'defz', 'ghiabc', 'ghidef', 'ghijkl', 'ghimno', 'ghipqrs', 'ghituv', 'ghiwxy', 'ghiz', 'jklabc', 'jkldef', 'jklghi', 'jklmno', 'jklpqrs', 'jkltuv', 'jklwxy', 'jklz', 'mnoabc', 'mnodef', 'mnoghi', 'mnojkl', 'mnopqrs', 'mnotuv', 'mnowxy', 'mnoz', 'pqrsabc', 'pqrsdef', 'pqrsghi', 'pqrsjkl', 'pqrsmno', 'pqrstuv', 'pqrswxy', 'pqrsz', 'tuvabc', 'tuvdef', 'tuvghi', 'tuvjkl', 'tuvmno', 'tuvpqrs', 'tuvwxy', 'tuvz', 'wxyabc', 'wxydef', 'wxyghi', 'wxyjkl', 'wxymno', 'wxypqrs', 'wxytuv', 'wxyz', 'zabc', 'zdef', 'zghi', 'zjkl', 'zmno', 'zpqrs', 'ztuv', 'zwxy']\n"
     ]
    }
   ],
   "source": [
    "ls =[]\n",
    "def all_possible(string_map,key):\n",
    "    global ls\n",
    "    for k1 in string_map:\n",
    "        for k2 in string_map:\n",
    "            if k1!=k2:\n",
    "                ls.append(string_map[k1]+\"\"+string_map[k2])\n",
    "string_maps = {\n",
    "\"1\": \"abc\",\n",
    "\"2\": \"def\",\n",
    "\"3\": \"ghi\",\n",
    "\"4\": \"jkl\",\n",
    "\"5\": \"mno\",\n",
    "\"6\": \"pqrs\",\n",
    "\"7\": \"tuv\",\n",
    "\"8\": \"wxy\",\n",
    "\"9\": \"z\"\n",
    "}\n",
    "all_possible(string_maps,\"1\")\n",
    "print(len(ls))\n",
    "print(ls)\n"
   ]
  },
  {
   "cell_type": "code",
   "execution_count": 1,
   "metadata": {},
   "outputs": [
    {
     "name": "stdout",
     "output_type": "stream",
     "text": [
      "1\n"
     ]
    }
   ],
   "source": [
    "ls3=[[1,1,0,0,0,0,0,1,1,1],\n",
    "[1,0,0,0,0,0,0,1,1,1],\n",
    "[0,0,0,0,0,0,0,1,1,1],\n",
    "[0,0,1,0,0,0,1,0,0,0],\n",
    "[0,0,0,0,0,1,1,1,0,0],\n",
    "[0,0,0,0,1,1,1,1,1,0],\n",
    "[0,0,0,1,1,1,1,1,1,1],\n",
    "[1,0,0,0,1,1,1,1,1,0],\n",
    "[1,1,0,0,0,1,1,1,0,0],\n",
    "[1,1,1,0,0,0,1,0,0,0]]\n",
    "\n",
    "def solve(row,col,n,m):\n",
    "    if(row<0 or row>=n or col<0 or col>=m or ls3[row][col]==0):\n",
    "        return\n",
    "    ls3[row][col]=0\n",
    "    solve(row+1,col,n,m)\n",
    "    solve(row-1,col,n,m)\n",
    "    solve(row,col+1,n,m)\n",
    "    solve(row,col-1,n,m)\n",
    "\n",
    "no_of_island=0\n",
    "for row in range(0,len(ls3)):\n",
    "    for col in range(0,len(ls3[0])):\n",
    "        if (row==0 or col==0 or row==len(ls3)-1 or col==len(ls3[0])-1 ) and ls3[row][col]==1:\n",
    "            solve(row,col,len(ls3),len(ls3[0]))\n",
    "for row in range(0,len(ls3)):\n",
    "    for col in range(0,len(ls3[0])):\n",
    "        if  ls3[row][col]==1:\n",
    "            solve(row,col,len(ls3),len(ls3[0]))\n",
    "            no_of_island+=1\n",
    "print(no_of_island)"
   ]
  },
  {
   "cell_type": "code",
   "execution_count": 28,
   "metadata": {},
   "outputs": [
    {
     "name": "stdout",
     "output_type": "stream",
     "text": [
      "1 2 3 4 5 6 7\n",
      "Enter the value of k : 2\n",
      "6\n"
     ]
    }
   ],
   "source": [
    "ls2=[int(k) for k in input().strip().split(\" \") ]\n",
    "k = int(input(\"Enter the value of k : \"))\n",
    "ls2=sorted(ls2)\n",
    "print(ls2[len(ls2)-k])"
   ]
  },
  {
   "cell_type": "code",
   "execution_count": 2,
   "metadata": {},
   "outputs": [
    {
     "name": "stdout",
     "output_type": "stream",
     "text": [
      "123, 456, 222, 145\n",
      "[123, 456, 222, 145]\n"
     ]
    }
   ],
   "source": [
    "ls4 = [int(i) for i in input().strip().split(\",\")]\n",
    "print(ls4)"
   ]
  },
  {
   "cell_type": "code",
   "execution_count": 4,
   "metadata": {},
   "outputs": [
    {
     "name": "stdout",
     "output_type": "stream",
     "text": [
      "Enter the number of file 1\n",
      "enter the file name : file.txt\n",
      "{'i', '2', '.', 'l', 'g', 'k', 'r', 's', 'n', 't', 'y', 'w', '1', 'o', 'f', 'e', 'h', 'v', '\\n', ' ', 'p'}\n"
     ]
    }
   ],
   "source": [
    "s = set()\n",
    "def store_char(f):\n",
    "    file = open(f,'r')\n",
    "    for ch in file.read():\n",
    "        s.add(ch)\n",
    "    \n",
    "n = int(input(\"Enter the number of file \"))\n",
    "for i in range(0,n):\n",
    "    f = input(\"enter the file name : \")\n",
    "    store_char(f)\n",
    "print(s)\n",
    "    "
   ]
  },
  {
   "cell_type": "code",
   "execution_count": null,
   "metadata": {},
   "outputs": [],
   "source": []
  }
 ],
 "metadata": {
  "kernelspec": {
   "display_name": "Python 3",
   "language": "python",
   "name": "python3"
  },
  "language_info": {
   "codemirror_mode": {
    "name": "ipython",
    "version": 3
   },
   "file_extension": ".py",
   "mimetype": "text/x-python",
   "name": "python",
   "nbconvert_exporter": "python",
   "pygments_lexer": "ipython3",
   "version": "3.7.3"
  }
 },
 "nbformat": 4,
 "nbformat_minor": 2
}
