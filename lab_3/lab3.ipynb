{
 "cells": [
  {
   "cell_type": "code",
   "execution_count": 15,
   "metadata": {},
   "outputs": [
    {
     "name": "stdout",
     "output_type": "stream",
     "text": [
      "{'yash': 'name', '21104039': 'enroll'}\n"
     ]
    }
   ],
   "source": [
    "def invertdict(dic):\n",
    "    new_dic={}\n",
    "    for key in dic:\n",
    "        new_dic[dic[key]]=key\n",
    "    return new_dic\n",
    "dic = {\"name\":\"yash\",\"enroll\":\"21104039\"}\n",
    "dic=invertdict(dic)\n",
    "print(dic)"
   ]
  },
  {
   "cell_type": "code",
   "execution_count": 16,
   "metadata": {},
   "outputs": [
    {
     "name": "stdout",
     "output_type": "stream",
     "text": [
      "enroll : 21104039\n",
      "name : yash\n"
     ]
    }
   ],
   "source": [
    "dic = {\"name\":\"yash\",\"enroll\":\"21104039\"}\n",
    "ls = sorted(dic)\n",
    "for key in ls:\n",
    "    print(key+\" : \"+dic[key])"
   ]
  },
  {
   "cell_type": "code",
   "execution_count": 17,
   "metadata": {},
   "outputs": [
    {
     "name": "stdout",
     "output_type": "stream",
     "text": [
      "72\n",
      "['abcdef', 'abcghi', 'abcjkl', 'abcmno', 'abcpqrs', 'abctuv', 'abcwxy', 'abcz', 'defabc', 'defghi', 'defjkl', 'defmno', 'defpqrs', 'deftuv', 'defwxy', 'defz', 'ghiabc', 'ghidef', 'ghijkl', 'ghimno', 'ghipqrs', 'ghituv', 'ghiwxy', 'ghiz', 'jklabc', 'jkldef', 'jklghi', 'jklmno', 'jklpqrs', 'jkltuv', 'jklwxy', 'jklz', 'mnoabc', 'mnodef', 'mnoghi', 'mnojkl', 'mnopqrs', 'mnotuv', 'mnowxy', 'mnoz', 'pqrsabc', 'pqrsdef', 'pqrsghi', 'pqrsjkl', 'pqrsmno', 'pqrstuv', 'pqrswxy', 'pqrsz', 'tuvabc', 'tuvdef', 'tuvghi', 'tuvjkl', 'tuvmno', 'tuvpqrs', 'tuvwxy', 'tuvz', 'wxyabc', 'wxydef', 'wxyghi', 'wxyjkl', 'wxymno', 'wxypqrs', 'wxytuv', 'wxyz', 'zabc', 'zdef', 'zghi', 'zjkl', 'zmno', 'zpqrs', 'ztuv', 'zwxy']\n"
     ]
    }
   ],
   "source": [
    "ls =[]\n",
    "def all_possible(string_map,key):\n",
    "    global ls\n",
    "    for k1 in string_map:\n",
    "        for k2 in string_map:\n",
    "            if k1!=k2:\n",
    "                ls.append(string_map[k1]+\"\"+string_map[k2])\n",
    "string_maps = {\n",
    "\"1\": \"abc\",\n",
    "\"2\": \"def\",\n",
    "\"3\": \"ghi\",\n",
    "\"4\": \"jkl\",\n",
    "\"5\": \"mno\",\n",
    "\"6\": \"pqrs\",\n",
    "\"7\": \"tuv\",\n",
    "\"8\": \"wxy\",\n",
    "\"9\": \"z\"\n",
    "}\n",
    "all_possible(string_maps,\"1\")\n",
    "print(len(ls))\n",
    "print(ls)\n"
   ]
  },
  {
   "cell_type": "code",
   "execution_count": 18,
   "metadata": {},
   "outputs": [
    {
     "name": "stdout",
     "output_type": "stream",
     "text": [
      "1\n"
     ]
    }
   ],
   "source": [
    "ls3=[[1,1,0,0,0,0,0,1,1,1],\n",
    "[1,0,0,0,0,0,0,1,1,1],\n",
    "[0,0,0,0,0,0,0,1,1,1],\n",
    "[0,0,1,0,0,0,1,0,0,0],\n",
    "[0,0,0,0,0,1,1,1,0,0],\n",
    "[0,0,0,0,1,1,1,1,1,0],\n",
    "[0,0,0,1,1,1,1,1,1,1],\n",
    "[1,0,0,0,1,1,1,1,1,0],\n",
    "[1,1,0,0,0,1,1,1,0,0],\n",
    "[1,1,1,0,0,0,1,0,0,0]]\n",
    "\n",
    "def solve(row,col,n,m):\n",
    "    if(row<0 or row>=n or col<0 or col>=m or ls3[row][col]==0):\n",
    "        return\n",
    "    ls3[row][col]=0\n",
    "    solve(row+1,col,n,m)\n",
    "    solve(row-1,col,n,m)\n",
    "    solve(row,col+1,n,m)\n",
    "    solve(row,col-1,n,m)\n",
    "\n",
    "no_of_island=0\n",
    "for row in range(0,len(ls3)):\n",
    "    for col in range(0,len(ls3[0])):\n",
    "        if (row==0 or col==0 or row==len(ls3)-1 or col==len(ls3[0])-1 ) and ls3[row][col]==1:\n",
    "            solve(row,col,len(ls3),len(ls3[0]))\n",
    "for row in range(0,len(ls3)):\n",
    "    for col in range(0,len(ls3[0])):\n",
    "        if  ls3[row][col]==1:\n",
    "            solve(row,col,len(ls3),len(ls3[0]))\n",
    "            no_of_island+=1\n",
    "print(no_of_island)"
   ]
  },
  {
   "cell_type": "code",
   "execution_count": 19,
   "metadata": {},
   "outputs": [
    {
     "name": "stdin",
     "output_type": "stream",
     "text": [
      " 20 1 3\n",
      "Enter the value of k :  2\n"
     ]
    },
    {
     "name": "stdout",
     "output_type": "stream",
     "text": [
      "3\n"
     ]
    }
   ],
   "source": [
    "ls2=[int(k) for k in input().strip().split(\" \") ]\n",
    "k = int(input(\"Enter the value of k : \"))\n",
    "ls2=sorted(ls2)\n",
    "print(ls2[len(ls2)-k])"
   ]
  },
  {
   "cell_type": "code",
   "execution_count": 21,
   "metadata": {
    "scrolled": true
   },
   "outputs": [
    {
     "name": "stdin",
     "output_type": "stream",
     "text": [
      " 20,3,4\n"
     ]
    },
    {
     "name": "stdout",
     "output_type": "stream",
     "text": [
      "[20, 3, 4]\n"
     ]
    }
   ],
   "source": [
    "ls4 = [int(i) for i in input().strip().split(\",\")]\n",
    "print(ls4)"
   ]
  },
  {
   "cell_type": "code",
   "execution_count": 23,
   "metadata": {},
   "outputs": [
    {
     "name": "stdin",
     "output_type": "stream",
     "text": [
      "Enter the number of file  1\n",
      "enter the file name :  q10.txt\n"
     ]
    },
    {
     "name": "stdout",
     "output_type": "stream",
     "text": [
      "{'O', 'p', 'm', 'A', 'r', 'u', 'w', 'c', 'h', ' ', 'n', 'a', 'i', 's', 'Y', 'b', '\\n', 'o', 'T', 'M', 'g', 'e', 'l'}\n"
     ]
    }
   ],
   "source": [
    "s = set()\n",
    "def store_char(f):\n",
    "    file = open(f,'r')\n",
    "    for ch in file.read():\n",
    "        s.add(ch)\n",
    "    \n",
    "n = int(input(\"Enter the number of file \"))\n",
    "for i in range(0,n):\n",
    "    f = input(\"enter the file name : \")\n",
    "    store_char(f)\n",
    "print(s)\n",
    "    "
   ]
  },
  {
   "cell_type": "code",
   "execution_count": null,
   "metadata": {
    "scrolled": true
   },
   "outputs": [],
   "source": [
    "distt={}\n",
    "items=[]\n",
    "f=open(\"VendingItems.txt\",\"r\")\n",
    "for line in f.readlines():\n",
    "    ls5 = line.strip().split(\"|\")\n",
    "    if len(ls5)==2:\n",
    "        items.append(ls5[0])\n",
    "        distt[ls5[0]]=ls5[1]\n",
    "t=False\n",
    "while(t!=True):\n",
    "    choise = input(\"ENTER YOUR CHOISE : \")\n",
    "    # if choise in distt:\n",
    "    # else:\n",
    "    #     print(\"Available Items are: \",ls5)\n",
    "    #     print(\"TRY AGAIN\")\n",
    "    try:\n",
    "        cost = int(distt[choise])\n",
    "        print(\"ITEM SELECTED\")\n",
    "        while(t!=True):\n",
    "            try:\n",
    "                print(\"You have to pay RUPEES \",cost,\" only \")\n",
    "                at = int(input())\n",
    "                if at==cost :\n",
    "                    print(\"Thank you for your purchase. Enjoy\")\n",
    "                    t=True\n",
    "                elif at>cost:\n",
    "                    print(\"Thank you for your purchase. Enjoy\")\n",
    "                    print(\"Do not forget to collect your change,\",at-cost,\" Rs.\")\n",
    "                    t=True\n",
    "                else:\n",
    "                    cost-=at;\n",
    "            except:\n",
    "                print(\"invalid: trancation failed\")\n",
    "                print(\"Try again\")\n",
    "    except:\n",
    "        print(\"Available items are : \",items)\n",
    "        print(\"try again\")\n",
    "    \n"
   ]
  },
  {
   "cell_type": "code",
   "execution_count": 7,
   "metadata": {},
   "outputs": [
    {
     "name": "stdout",
     "output_type": "stream",
     "text": [
      "Recursive method: Element found at index 5\n",
      "Iterative method: Element found at index 5\n"
     ]
    }
   ],
   "source": [
    "\n",
    "def binary_search_recursive(arr, target, low, high):\n",
    "    if low > high:\n",
    "        return -1 \n",
    "    mid = (low + high) // 2\n",
    "    if arr[mid] == target:\n",
    "        return mid \n",
    "    elif arr[mid] < target:\n",
    "        return binary_search_recursive(arr, target, mid + 1, high)\n",
    "    else:\n",
    "        return binary_search_recursive(arr, target, low, mid - 1)\n",
    "\n",
    "def binary_search_iterative(arr, target):\n",
    "    low, high = 0, len(arr) - 1\n",
    "    while low <= high:\n",
    "        mid = (low + high) // 2\n",
    "        if arr[mid] == target:\n",
    "            return mid  \n",
    "        elif arr[mid] < target:\n",
    "            low = mid + 1\n",
    "        else:\n",
    "            high = mid - 1\n",
    "    return -1  \n",
    "\n",
    "arr = [2, 5, 8, 12, 16, 23, 38, 45, 56, 72, 91]\n",
    "target = 23\n",
    "\n",
    "\n",
    "index_recursive = binary_search_recursive(arr, target, 0, len(arr) - 1)\n",
    "if index_recursive != -1:\n",
    "    print(f\"Recursive method: Element found at index {index_recursive}\")\n",
    "else:\n",
    "    print(\"Recursive method: Element not found\")\n",
    "\n",
    "index_iterative = binary_search_iterative(arr, target)\n",
    "if index_iterative != -1:\n",
    "    print(f\"Iterative method: Element found at index {index_iterative}\")\n",
    "else:\n",
    "    print(\"Iterative method: Element not found\")\n"
   ]
  },
  {
   "cell_type": "code",
   "execution_count": 9,
   "metadata": {},
   "outputs": [
    {
     "name": "stdout",
     "output_type": "stream",
     "text": [
      "REPEATED WORDS\n",
      "is\n"
     ]
    }
   ],
   "source": [
    "f = open(\"q10.txt\",\"r\")\n",
    "s=set()\n",
    "print(\"REPEATED WORDS\")\n",
    "for line in f.readlines():\n",
    "    ls = line.strip().split(\" \")\n",
    "    for words in ls:\n",
    "        if words in s:\n",
    "            print(words)\n",
    "        else:\n",
    "            s.add(words)\n"
   ]
  },
  {
   "cell_type": "code",
   "execution_count": 10,
   "metadata": {},
   "outputs": [
    {
     "name": "stdout",
     "output_type": "stream",
     "text": [
      "[2, 5, 3, 8, 9, 10]\n"
     ]
    }
   ],
   "source": [
    "def unique_elements(input_list):\n",
    "    unique_list = []\n",
    "    for item in input_list:\n",
    "        if item not in unique_list:\n",
    "            unique_list.append(item)\n",
    "    return unique_list\n",
    "\n",
    "# Example usage\n",
    "input_list = [2, 5, 3, 5, 8, 2, 9, 3, 10]\n",
    "result = unique_elements(input_list)\n",
    "print(result)  \n"
   ]
  },
  {
   "cell_type": "code",
   "execution_count": 12,
   "metadata": {},
   "outputs": [
    {
     "name": "stdout",
     "output_type": "stream",
     "text": [
      "The first non-repeating character is: Y\n"
     ]
    }
   ],
   "source": [
    "def solve(input_str):\n",
    "    char_count = {}\n",
    "    for char in input_str:\n",
    "        if char in char_count:\n",
    "            char_count[char] += 1\n",
    "        else:\n",
    "            char_count[char] = 1\n",
    "    for char in input_str:\n",
    "        if char_count[char] == 1:\n",
    "            return char\n",
    "    \n",
    "    return None  # No non-repeating character found\n",
    "\n",
    "# Example usage\n",
    "input_string = \"Yash Agarwal\"\n",
    "result = solve(input_string)\n",
    "if result:\n",
    "    print(f\"The first non-repeating character is: {result}\")\n",
    "else:\n",
    "    print(\"No non-repeating character found in the input string.\")\n"
   ]
  },
  {
   "cell_type": "code",
   "execution_count": 14,
   "metadata": {},
   "outputs": [
    {
     "name": "stdout",
     "output_type": "stream",
     "text": [
      "example \n",
      "w3resource\n",
      "github \n",
      "stackoverflow \n"
     ]
    }
   ],
   "source": [
    "def remove_parentheses_area(input_list):\n",
    "    result = []\n",
    "    for string in input_list:\n",
    "        cleaned_string = \"\"\n",
    "        inside_parentheses = False\n",
    "        for char in string:\n",
    "            if char == '(':\n",
    "                inside_parentheses = True\n",
    "            elif char == ')':\n",
    "                inside_parentheses = False\n",
    "            elif not inside_parentheses:\n",
    "                cleaned_string += char\n",
    "        result.append(cleaned_string)\n",
    "    return result\n",
    "\n",
    "input_data = [\"example (.com)\", \"w3resource\", \"github (.com)\", \"stackoverflow (.com)\"]\n",
    "output_data = remove_parentheses_area(input_data)\n",
    "for cleaned_string in output_data:\n",
    "    print(cleaned_string)\n"
   ]
  },
  {
   "cell_type": "code",
   "execution_count": null,
   "metadata": {},
   "outputs": [],
   "source": []
  }
 ],
 "metadata": {
  "kernelspec": {
   "display_name": "Python 3 (ipykernel)",
   "language": "python",
   "name": "python3"
  },
  "language_info": {
   "codemirror_mode": {
    "name": "ipython",
    "version": 3
   },
   "file_extension": ".py",
   "mimetype": "text/x-python",
   "name": "python",
   "nbconvert_exporter": "python",
   "pygments_lexer": "ipython3",
   "version": "3.9.7"
  }
 },
 "nbformat": 4,
 "nbformat_minor": 4
}
